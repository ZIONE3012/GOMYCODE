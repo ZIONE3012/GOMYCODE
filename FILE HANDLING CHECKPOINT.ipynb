{
 "cells": [
  {
   "cell_type": "markdown",
   "id": "adafa8b8-6e13-4a0f-97ec-47d657d54310",
   "metadata": {},
   "source": [
    "What You're Aiming For\n",
    "\n",
    "This dataset contains loan information, including loan ID, customer gender, location, region, total price for each loan etc.\n",
    "\n",
    "\n",
    "Instructions\n",
    "\n",
    " \n",
    "\n",
    "Begin by importing the necessary libraries, numpy.\n",
    "Use the open() function to open csv file and assign the result to a variable.\n",
    "Use the numpy array to perform some basic statistical analysis on the data, such as finding the mean, median, and standard deviation of the loan amounts.\n",
    "Note:\n",
    "\n",
    "Be sure to close the file after you have finished reading it in with the open() function.\n",
    "Use the delimiter parameter in the genfromtxt() function to specify that the values in the file are separated by commas.\n",
    "You can use the numpy functions mean(), median(), and std() to find the mean, median, and standard deviation of the loan amounts."
   ]
  },
  {
   "cell_type": "code",
   "execution_count": 2,
   "id": "c48e5c15-e1c2-46b1-9c78-b7a42ae94531",
   "metadata": {},
   "outputs": [],
   "source": [
    "#importing the library that will be used for the checkpoint\n",
    "import numpy as np\n",
    "loan_amount = np.array([360, 120, 240, 180, 60, 300, 480, 84, 12, 36])"
   ]
  },
  {
   "cell_type": "code",
   "execution_count": 8,
   "id": "ed5cf86f-3320-4b8c-a3d9-23d51cf3bace",
   "metadata": {},
   "outputs": [
    {
     "name": "stdout",
     "output_type": "stream",
     "text": [
      "Mean Loan Amount: 187.2\n",
      "Median Loan Amount: 150.0\n",
      "Standard Deviation of Loan Amounts: 146.98897917871258\n",
      "the file_handling.txt has been created and written to. \n",
      "\n",
      "file content: \n",
      " 187.2150.0146.98897917871258 \n",
      "\n"
     ]
    }
   ],
   "source": [
    "# checkpoint on file handling\n",
    "#importing the library that will be used for the checkpoint\n",
    "zion_file = \"file_handling.txt\"\n",
    "import numpy as np\n",
    "\n",
    "\n",
    "# Calculate mean, median, and standard deviation\n",
    "loan_amount = np.array([360, 120, 240, 180, 60, 300, 480, 84, 12, 36])\n",
    "mean_loan_amount = np.mean(loan_amount)\n",
    "median_loan_amount = np.median(loan_amount)\n",
    "std_loan_amount = np.std(loan_amount)\n",
    "\n",
    "print(f\"Mean Loan Amount: {mean_loan_amount}\")\n",
    "print(f\"Median Loan Amount: {median_loan_amount}\")\n",
    "print(f\"Standard Deviation of Loan Amounts: {std_loan_amount}\")\n",
    "\n",
    "with open(zion_file, \"w\") as file:\n",
    "    file.write(str(mean_loan_amount))\n",
    "    file.write(str(median_loan_amount))\n",
    "    file.write(str(std_loan_amount))\n",
    "print(f\"the {zion_file} has been created and written to. \\n\")\n",
    "\n",
    "with open(zion_file, \"r\") as file:\n",
    "    content = file.read()\n",
    "    print(\"file content: \\n\", content, \"\\n\")"
   ]
  },
  {
   "cell_type": "code",
   "execution_count": null,
   "id": "7809a146-9650-42f9-96f1-b0f467f57028",
   "metadata": {},
   "outputs": [],
   "source": []
  }
 ],
 "metadata": {
  "kernelspec": {
   "display_name": "Python 3 (ipykernel)",
   "language": "python",
   "name": "python3"
  },
  "language_info": {
   "codemirror_mode": {
    "name": "ipython",
    "version": 3
   },
   "file_extension": ".py",
   "mimetype": "text/x-python",
   "name": "python",
   "nbconvert_exporter": "python",
   "pygments_lexer": "ipython3",
   "version": "3.11.7"
  }
 },
 "nbformat": 4,
 "nbformat_minor": 5
}
