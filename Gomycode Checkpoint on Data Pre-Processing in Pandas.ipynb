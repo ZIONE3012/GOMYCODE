{
 "cells": [
  {
   "cell_type": "markdown",
   "id": "17145f84",
   "metadata": {},
   "source": [
    "### What You're Aiming For\n",
    "\n",
    "- In this checkpoint, we are going to work on the billing history of the Tunisian electricity and gas company and apply what you learned in pre-processing chapter.\n",
    "\n",
    "##### Dataset description : \n",
    "\n",
    "- The provided dataset contains the billing history of the Tunisian electricity and gas company's customers from 2005 to 2019.\n",
    "\n",
    "\n",
    "##### Instructions\n",
    "\n",
    "- Load the dataset, display the ten first lines, store the results in a variable called 'client_0_bills'.\n",
    "- What is the data type of the 'client_0_bills' variable?\n",
    "- Display the general information of the dataset and try to answer the following questions: \n",
    "  - How many rows and columns do we have in this dataset?\n",
    "  - How many categorical features are present in the dataset?\n",
    "  - How much memory space does the dataset consume?\n",
    "- Inspect the dataset for potential missing values.\n",
    "- Select your strategy to handle missing values, and tell us why you had made that choice.\n",
    "- Run a descriptive analysis on numeric features (columns).\n",
    "- Select the bills records for the client with an id ='train_Client_0', using 2 methods.\n",
    "- Transform the 'counter_type' feature to a numeric variable using the encoder of your choice.\n",
    "- Delete the 'counter_statue' feature from the Dataframe"
   ]
  },
  {
   "cell_type": "code",
   "execution_count": null,
   "id": "d26497dd",
   "metadata": {
    "scrolled": true
   },
   "outputs": [],
   "source": [
    "import pandas as pd\n",
    "import numpy as np"
   ]
  },
  {
   "cell_type": "code",
   "execution_count": null,
   "id": "9382ffad",
   "metadata": {
    "scrolled": true
   },
   "outputs": [],
   "source": [
    "#1. Load the dataset, display the ten first lines, store the results in a variable called 'client_0_bills'.\n",
    "client_0_bills = pd.read_csv(\"STEG_BILLING_HISTORY.csv\", low_memory = False)"
   ]
  },
  {
   "cell_type": "code",
   "execution_count": null,
   "id": "79a5adfb",
   "metadata": {
    "scrolled": true
   },
   "outputs": [],
   "source": [
    "client_0_bills"
   ]
  },
  {
   "cell_type": "code",
   "execution_count": null,
   "id": "7170c470",
   "metadata": {
    "scrolled": true
   },
   "outputs": [],
   "source": [
    "#2. What is the data type of the 'client_0_bills' variable ?\n",
    "client_0_bills.dtypes"
   ]
  },
  {
   "cell_type": "code",
   "execution_count": null,
   "id": "157aea6f",
   "metadata": {
    "scrolled": true
   },
   "outputs": [],
   "source": [
    "#3.Display the general information of the dataset and try to answer the following questions\n",
    "client_0_bills.info()"
   ]
  },
  {
   "cell_type": "markdown",
   "id": "c11bda81",
   "metadata": {},
   "source": [
    "##### 3a. How many rows and columns do we have in this dataset?\n",
    "- Ans = Rows: 4,476,749 and Columns: 16\n",
    "\n",
    "##### 3b. How many categorical features are present in the dataset ?\n",
    "- Ans = 4\n",
    "\n",
    "##### 3c. How much memory space does the dataset consume?\n",
    "- Ans = 546.5+ MB"
   ]
  },
  {
   "cell_type": "code",
   "execution_count": null,
   "id": "1838cd0c",
   "metadata": {
    "scrolled": true
   },
   "outputs": [],
   "source": [
    "#4. Inspect the dataset for potential missing values.\n",
    "missing_values_client_0_bills = client_0_bills.isnull().sum()\n",
    "print(missing_values_client_0_bills)"
   ]
  },
  {
   "cell_type": "code",
   "execution_count": null,
   "id": "d85dc739",
   "metadata": {
    "scrolled": true
   },
   "outputs": [],
   "source": [
    "#5. Select your strategy to handle missing values, and tell us why you had made that choice.\n",
    "client_0_bills_cleaned = client_0_bills.dropna()\n",
    "client_0_bills_cleaned"
   ]
  },
  {
   "cell_type": "markdown",
   "id": "f5fc2855",
   "metadata": {},
   "source": [
    "##### 5b. Reason why i use the above strategy to handle missing value in this dataset\n",
    "- I dropped all missing value because the columns where the missing value are found weren't important in what i am trying to build with this dataset"
   ]
  },
  {
   "cell_type": "code",
   "execution_count": null,
   "id": "735bdb12",
   "metadata": {
    "scrolled": true
   },
   "outputs": [],
   "source": [
    "#6. Run a descriptive analysis on numeric features (columns).\n",
    "client_0_bills_deb = client_0_bills_cleaned.describe()\n",
    "client_0_bills_deb"
   ]
  },
  {
   "cell_type": "code",
   "execution_count": null,
   "id": "3b8015f2",
   "metadata": {
    "scrolled": true
   },
   "outputs": [],
   "source": [
    "#7. Select the bills records for the client with an id ='train_Client_0', using 2 methods.\n",
    "client_0_bills_id= client_0_bills.loc[client_0_bills[\"client_id\"] == \"train_Client_0\"]\n",
    "client_0_bills_id"
   ]
  },
  {
   "cell_type": "code",
   "execution_count": null,
   "id": "c2dabc77",
   "metadata": {},
   "outputs": [],
   "source": [
    "# *Importing the necessary library used in label-enconding first\n",
    "from sklearn.preprocessing import LabelEncoder"
   ]
  },
  {
   "cell_type": "code",
   "execution_count": null,
   "id": "2e2dac88",
   "metadata": {},
   "outputs": [],
   "source": [
    "#8.Transform the 'counter_type' feature to a numeric variable using the encoder of your choice.\n",
    "counter_type_mapping = {'ELEC': 0, 'GAZ': 1}\n",
    "client_0_bills['counter_type'] = client_0_bills['counter_type'].map(counter_type_mapping)\n",
    "client_0_bills.head()"
   ]
  },
  {
   "cell_type": "code",
   "execution_count": null,
   "id": "5a96a7a5",
   "metadata": {},
   "outputs": [],
   "source": [
    "#9. Delete the 'counter_statue' feature from the Dataframe\n",
    "client_0_bills_cleaned2 = client_0_bills.drop(columns=['counter_statue'])\n",
    "client_0_bills_cleaned2"
   ]
  }
 ],
 "metadata": {
  "kernelspec": {
   "display_name": "Python 3 (ipykernel)",
   "language": "python",
   "name": "python3"
  },
  "language_info": {
   "codemirror_mode": {
    "name": "ipython",
    "version": 3
   },
   "file_extension": ".py",
   "mimetype": "text/x-python",
   "name": "python",
   "nbconvert_exporter": "python",
   "pygments_lexer": "ipython3",
   "version": "3.11.7"
  }
 },
 "nbformat": 4,
 "nbformat_minor": 5
}
