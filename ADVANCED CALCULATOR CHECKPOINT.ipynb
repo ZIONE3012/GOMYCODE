{
 "cells": [
  {
   "cell_type": "markdown",
   "id": "42450143-7a61-4950-8931-5564b71aa010",
   "metadata": {},
   "source": [
    "What You're Aiming For\n",
    "\n",
    "In this exercise, you will expand on the basic calculator program by adding more advanced mathematical operations and error handling using object-oriented programming.\n",
    "\n",
    "\n",
    "Instructions\n",
    "\n",
    "* Create a new file called \"calculator_2.0.py\"\n",
    "* Create a class called \"Calculator\" that contains the following:\n",
    "* A dictionary attribute to store the available mathematical operations and their corresponding functions\n",
    "* A method called \"init\" that initializes the dictionary with the basic mathematical operations (+, -, *, /) and corresponding functions\n",
    "* A method called \"add_operation\" that takes in two arguments: the operation symbol and the corresponding function. This method should add the new operation and function to the dictionary.\n",
    "* A method called \"calculate\" that takes in three arguments: the first number, the operation symbol, and the second number. This method should use the dictionary to determine the appropriate function to perform the calculation. It should also include error handling to check if the operation symbol is valid and if the input values are numbers. If an error is encountered, the method should print an error message and raise an exception.\n",
    "\n",
    "* Create separate functions for the advanced mathematical operations (exponentiation, square root, logarithm) and use the \"add_operation\" method to add them to the calculator's dictionary.\n",
    "* In the main program, create an instance of the Calculator class, and use a while loop that allows the user to continue performing calculations until they choose to exit.\n",
    "* Use the input() function to get input from the user for the numbers and operation symbol.Use the math library for advanced mathematical operations\n",
    "* Use the isinstance() function to check if the input is a number."
   ]
  },
  {
   "cell_type": "code",
   "execution_count": 5,
   "id": "40cf51c0-4854-4e4d-b6a0-9bf3aa1cb864",
   "metadata": {},
   "outputs": [],
   "source": [
    "#The calculator checkpoint\n",
    "import math\n",
    "\n",
    "def add(self, num1, num2):\n",
    "    # Adding two numbers\n",
    "    return num1 + num2\n",
    "    \n",
    "def subtract(self, num1, num2):\n",
    "    # Subtracting the second number from the first number\n",
    "    return num1 - num2\n",
    "\n",
    "def multiply(self, num1, num2):\n",
    "    # Multiplying two numbers\n",
    "    return num1 * num2\n",
    "\n",
    "def divide(self, num1, num2):\n",
    "    # Dividing the first number by the second number, with a check for division by zero\n",
    "    if num2 == 0:\n",
    "        print(\"Error: Dividing by zero is invalid.\")\n",
    "    return num1 / num2\n",
    "\n",
    "class Calculator:\n",
    "    def __init__(self):\n",
    "        # Initializing the operations dictionary with basic operations and their corresponding methods\n",
    "        self.operations = {\n",
    "            '+': self.add,\n",
    "            '-': self.subtract,\n",
    "            '*': self.multiply,\n",
    "            '/': self.divide\n",
    "        }\n",
    "    \n",
    "    def add_operation(self, symbol, function):\n",
    "        # Adding a new operation to the operations dictionary\n",
    "        self.operations[symbol] = function\n",
    "    \n",
    "    def calculate(self, num1, operation, num2):\n",
    "        # Checking if the operation is valid\n",
    "        if operation not in self.operations:\n",
    "            print(f\"Error: '{operation}' is not a valid operation.\")\n",
    "        \n",
    "        # Checking if the inputs are numbers\n",
    "        if not (isinstance(num1, (int, float)) and isinstance(num2, (int, float))):\n",
    "        # The isinstance() function returns True if the specified object is of the specified type, otherwise False.    \n",
    "            print(\"Error: Both numbers must be integers or floats.\")\n",
    "        \n",
    "        # Retrieving the function corresponding to the operation\n",
    "        function = self.operations[operation] \n",
    "        return function(num1, num2)  # Executing the function with num1 and num2 as arguments\n"
   ]
  },
  {
   "cell_type": "code",
   "execution_count": null,
   "id": "b6a69a2f-685f-45b5-8ae7-40a055249fe8",
   "metadata": {},
   "outputs": [],
   "source": [
    "x = Calculator()\n",
    "x= self.add(2,4)"
   ]
  },
  {
   "cell_type": "code",
   "execution_count": null,
   "id": "4de8dda4-d0e9-48b8-a28e-1c2fb93d2e62",
   "metadata": {},
   "outputs": [],
   "source": [
    "help(math)"
   ]
  },
  {
   "cell_type": "code",
   "execution_count": null,
   "id": "7349527a-c65d-47d2-8e03-d58b11807b6c",
   "metadata": {},
   "outputs": [],
   "source": [
    "# Creating an instance of the Calculator class\n",
    "calc = Calculator()"
   ]
  },
  {
   "cell_type": "code",
   "execution_count": 4,
   "id": "af005ab5-0c2e-4f52-9ca2-64a533ac1450",
   "metadata": {},
   "outputs": [],
   "source": [
    "#Creating separate functions for the advanced mathematical operations(exponentiation, square root, logarithm)\n",
    "\n",
    "\n",
    "# functions for the advanced mathematical operations\n",
    "def exponentiate(self, num1, num2):\n",
    "    # Raising the first number to the power of the second number\n",
    "    return num1 ** num2\n",
    "\n",
    "def sqrt(self, num1, _):\n",
    "    # Calculating the square root of the first number\n",
    "    return math.sqrt(num1)\n",
    "\n",
    "def logarithm(self, num1, num2):\n",
    "    # Calculating the logarithm of num1 with base num2, with checks for valid inputs\n",
    "    if num1 <= 0:\n",
    "        print(\"Error: Logarithm base must be greater than 0.\")\n",
    "    if num2 <= 0 or num2 == 1:\n",
    "        print(\"Error: Logarithm argument must be greater than 0 and not equal to 1.\")\n",
    "    return math.log(num1, num2)  # Calculating the logarithm"
   ]
  },
  {
   "cell_type": "code",
   "execution_count": null,
   "id": "370c643a-be3f-4685-8376-6c7c0d0e62f9",
   "metadata": {},
   "outputs": [],
   "source": [
    " \n",
    "# Adding advanced operations to the calculator\n",
    "calc.add_operation('^', calc.exponentiate)\n",
    "calc.add_operation('sqrt', calc.sqrt)\n",
    "calc.add_operation('log', calc.logarithm)"
   ]
  },
  {
   "cell_type": "code",
   "execution_count": null,
   "id": "d2d25b61-a57e-456d-83ee-356cf9f9c172",
   "metadata": {},
   "outputs": [],
   "source": [
    "#A while loop that allows the user to continue performing calculations until they choose to exit\n",
    "while True:\n",
    "    # Prompting the user to enter the first number or exit the program\n",
    "    num1_input = input(\"Enter the first number (or type 'exit' to quit): \")\n",
    "    if num1_input.lower() == 'exit':\n",
    "        break  # Exiting the loop if the user types 'exit'\n",
    "\n",
    "    # Prompting the user to enter the second number\n",
    "    num2_input = input(\"Enter the second number: \")\n",
    "\n",
    "    # Prompting the user to enter the operation\n",
    "    operation = input(\"Enter the operation (+, -, *, /, ^, sqrt, log): \")\n",
    "\n",
    "    # Converting inputs to floats\n",
    "    num1 = float(num1_input)\n",
    "    num2 = float(num2_input) if operation != 'sqrt' else 0  # sqrt only needs one number\n",
    "\n",
    "    # Performing the calculation\n",
    "    result = calc.calculate(num1, operation, num2)\n",
    "\n",
    "    # Displaying the result\n",
    "    print(f\"The result is: {result}\")"
   ]
  }
 ],
 "metadata": {
  "kernelspec": {
   "display_name": "Python 3 (ipykernel)",
   "language": "python",
   "name": "python3"
  },
  "language_info": {
   "codemirror_mode": {
    "name": "ipython",
    "version": 3
   },
   "file_extension": ".py",
   "mimetype": "text/x-python",
   "name": "python",
   "nbconvert_exporter": "python",
   "pygments_lexer": "ipython3",
   "version": "3.11.7"
  }
 },
 "nbformat": 4,
 "nbformat_minor": 5
}
