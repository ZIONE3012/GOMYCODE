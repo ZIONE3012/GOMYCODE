{
 "cells": [
  {
   "cell_type": "markdown",
   "id": "d66e5e66-68c1-4933-b88a-e46a8f922c79",
   "metadata": {},
   "source": [
    "What You're Aiming For\r\n",
    "\r\n",
    "In this checkpoint, you are going to work on the '5G-Energy consumption' dataset that was provided by the  international telecommunication union (ITU) in 2023 as part of a global challenge or competition for data scientists all over the world to solve the 5G energy consumption modelling using machine learning techniques.\r\n",
    "\r\n",
    "The competition is taking place from 2023-07-05 to 2023-09-30. Fore more information click here.\r\n",
    "\r\n",
    "Checkpoint problematic : Network operational expenditure (OPEX) already accounts for around 25 percent of the total telecom operator’s cost, and 90 percent of it is spent on large energy bills. More than 70 percent of this energy is estimated to be consumed by the radio access network (RAN), particularly by the base stations (BSs). Thus, the objective is to build and train a ML model to estimate the energy consumed by different 5G base stations taking into consideration the impact of various engineering configurations, traffic conditions, and energy-saving methods.\r\n",
    "\r\n",
    "Dataset description : This dataset is derived from the original copy and simplified for learning purposes. It includes cell-level traffic statistics of 4G/5G sites collected on different days.\r\n",
    "\r\n",
    "➡️ Dataset link\r\n",
    "\r\n",
    "https://i.imgur.com/Agu9zeP.jpg\r\n",
    "\r\n",
    " \r\n",
    "\r",
    "-\n",
    "\r\n",
    "Instructions\r\n",
    "\r\n",
    "Import you data and perform basic data- exploration phase\r\n",
    "Display general informatio-n about the dataset\r\n",
    "Create a pandas profiling reports to gain insig-hts into the dataset\r\n",
    "Handle Missing- and corrupted values\r\n",
    "Remove dup-licates, if they exist\r\n",
    "Handle -outliers, if they exist\r\n",
    "Enc-ode categorical features\r\n",
    "Select your target -variable and the features\r\n",
    "Split your dataset- to training and test sets\r\n",
    "Based on your data exploration phase select a ML regression algorithm and t-rain it on the training set\r\n",
    "Assess your model performance on the test set using- relevant evaluation metrics\r\n",
    "Discuss with your cohort alternative ways to improve your model performance"
   ]
  },
  {
   "cell_type": "code",
   "execution_count": 1,
   "id": "c4c24887-304e-4e48-bbe8-423de84c6773",
   "metadata": {},
   "outputs": [],
   "source": [
    "#To silence warnings,for some clearer outputs\n",
    "\n",
    "import warnings \n",
    "warnings.filterwarnings(\"ignore\")"
   ]
  },
  {
   "cell_type": "markdown",
   "id": "da653694-e4ce-425d-8940-395dfddaa42b",
   "metadata": {},
   "source": [
    "## Importing necessary libraries needed\n"
   ]
  },
  {
   "cell_type": "code",
   "execution_count": 63,
   "id": "d34a22bd-0207-4ab9-93a3-49caf2ac5bb3",
   "metadata": {},
   "outputs": [],
   "source": [
    "import numpy as np\n",
    "import pandas as pd\n",
    "import seaborn as sns\n",
    "import matplotlib.pyplot as plt\n",
    "\n",
    "from sklearn.model_selection import train_test_split\n",
    "from sklearn.preprocessing import StandardScaler, OneHotEncoder\n",
    "from sklearn.linear_model import LinearRegression\n",
    "from sklearn import metrics\n",
    "from xgboost import XGBRegressor\n",
    "from sklearn.metrics import mean_absolute_error, mean_squared_error,r2_score"
   ]
  },
  {
   "cell_type": "markdown",
   "id": "b54fbbf4-7ece-4a8d-8e3f-9e02fbffac28",
   "metadata": {},
   "source": [
    "## Importing the dataset given\n"
   ]
  },
  {
   "cell_type": "code",
   "execution_count": 13,
   "id": "4259065e-5d2d-46d8-9b74-e3d4f6c06a51",
   "metadata": {},
   "outputs": [],
   "source": [
    "energy_df = pd.read_csv(r\"C:\\Users\\Zione\\Downloads\\5G_energy_consumption_dataset.csv\")"
   ]
  },
  {
   "cell_type": "markdown",
   "id": "106685b1-a4d4-4df0-a5c5-2cc8ac2fed75",
   "metadata": {},
   "source": [
    "## Data cleaning and overview"
   ]
  },
  {
   "cell_type": "code",
   "execution_count": 14,
   "id": "eab5b0d6-f31a-431e-8dde-c410113b2cec",
   "metadata": {},
   "outputs": [
    {
     "data": {
      "text/html": [
       "<div>\n",
       "<style scoped>\n",
       "    .dataframe tbody tr th:only-of-type {\n",
       "        vertical-align: middle;\n",
       "    }\n",
       "\n",
       "    .dataframe tbody tr th {\n",
       "        vertical-align: top;\n",
       "    }\n",
       "\n",
       "    .dataframe thead th {\n",
       "        text-align: right;\n",
       "    }\n",
       "</style>\n",
       "<table border=\"1\" class=\"dataframe\">\n",
       "  <thead>\n",
       "    <tr style=\"text-align: right;\">\n",
       "      <th></th>\n",
       "      <th>Time</th>\n",
       "      <th>BS</th>\n",
       "      <th>Energy</th>\n",
       "      <th>load</th>\n",
       "      <th>ESMODE</th>\n",
       "      <th>TXpower</th>\n",
       "    </tr>\n",
       "  </thead>\n",
       "  <tbody>\n",
       "    <tr>\n",
       "      <th>0</th>\n",
       "      <td>20230101 010000</td>\n",
       "      <td>B_0</td>\n",
       "      <td>64.275037</td>\n",
       "      <td>0.487936</td>\n",
       "      <td>0.0</td>\n",
       "      <td>7.101719</td>\n",
       "    </tr>\n",
       "    <tr>\n",
       "      <th>1</th>\n",
       "      <td>20230101 020000</td>\n",
       "      <td>B_0</td>\n",
       "      <td>55.904335</td>\n",
       "      <td>0.344468</td>\n",
       "      <td>0.0</td>\n",
       "      <td>7.101719</td>\n",
       "    </tr>\n",
       "    <tr>\n",
       "      <th>2</th>\n",
       "      <td>20230101 030000</td>\n",
       "      <td>B_0</td>\n",
       "      <td>57.698057</td>\n",
       "      <td>0.193766</td>\n",
       "      <td>0.0</td>\n",
       "      <td>7.101719</td>\n",
       "    </tr>\n",
       "    <tr>\n",
       "      <th>3</th>\n",
       "      <td>20230101 040000</td>\n",
       "      <td>B_0</td>\n",
       "      <td>55.156951</td>\n",
       "      <td>0.222383</td>\n",
       "      <td>0.0</td>\n",
       "      <td>7.101719</td>\n",
       "    </tr>\n",
       "    <tr>\n",
       "      <th>4</th>\n",
       "      <td>20230101 050000</td>\n",
       "      <td>B_0</td>\n",
       "      <td>56.053812</td>\n",
       "      <td>0.175436</td>\n",
       "      <td>0.0</td>\n",
       "      <td>7.101719</td>\n",
       "    </tr>\n",
       "  </tbody>\n",
       "</table>\n",
       "</div>"
      ],
      "text/plain": [
       "              Time   BS     Energy      load  ESMODE   TXpower\n",
       "0  20230101 010000  B_0  64.275037  0.487936     0.0  7.101719\n",
       "1  20230101 020000  B_0  55.904335  0.344468     0.0  7.101719\n",
       "2  20230101 030000  B_0  57.698057  0.193766     0.0  7.101719\n",
       "3  20230101 040000  B_0  55.156951  0.222383     0.0  7.101719\n",
       "4  20230101 050000  B_0  56.053812  0.175436     0.0  7.101719"
      ]
     },
     "execution_count": 14,
     "metadata": {},
     "output_type": "execute_result"
    }
   ],
   "source": [
    "# Display the first five rows of the dataset\n",
    "energy_df.head()"
   ]
  },
  {
   "cell_type": "markdown",
   "id": "8108086f-c610-4cf4-a41f-099789e2ab71",
   "metadata": {},
   "source": [
    "### Deriving more information on the dataset \n"
   ]
  },
  {
   "cell_type": "code",
   "execution_count": 15,
   "id": "9c5f1b25-6895-4717-bd9b-b25a66e1f309",
   "metadata": {},
   "outputs": [
    {
     "name": "stdout",
     "output_type": "stream",
     "text": [
      "<class 'pandas.core.frame.DataFrame'>\n",
      "RangeIndex: 92629 entries, 0 to 92628\n",
      "Data columns (total 6 columns):\n",
      " #   Column   Non-Null Count  Dtype  \n",
      "---  ------   --------------  -----  \n",
      " 0   Time     92629 non-null  object \n",
      " 1   BS       92629 non-null  object \n",
      " 2   Energy   92629 non-null  float64\n",
      " 3   load     92629 non-null  float64\n",
      " 4   ESMODE   92629 non-null  float64\n",
      " 5   TXpower  92629 non-null  float64\n",
      "dtypes: float64(4), object(2)\n",
      "memory usage: 4.2+ MB\n"
     ]
    }
   ],
   "source": [
    "energy_df.info()"
   ]
  },
  {
   "cell_type": "markdown",
   "id": "f1e303c1-c90f-47e7-9a2c-0ef0abd66b40",
   "metadata": {},
   "source": [
    "## More statistics on the dataset"
   ]
  },
  {
   "cell_type": "markdown",
   "id": "45874cbf-df52-48de-bd20-ed9e77cc8026",
   "metadata": {
    "scrolled": true
   },
   "source": [
    "energy_df.describe(include ='all')"
   ]
  },
  {
   "cell_type": "markdown",
   "id": "4903a35a-10b8-460b-97a6-c660ee9fbef1",
   "metadata": {},
   "source": [
    "## Handling and looking for missing values\n"
   ]
  },
  {
   "cell_type": "code",
   "execution_count": 17,
   "id": "3e2afcaf-95cd-44b3-bd78-77efcdb5fc5e",
   "metadata": {},
   "outputs": [
    {
     "data": {
      "text/plain": [
       "Time       0\n",
       "BS         0\n",
       "Energy     0\n",
       "load       0\n",
       "ESMODE     0\n",
       "TXpower    0\n",
       "dtype: int64"
      ]
     },
     "execution_count": 17,
     "metadata": {},
     "output_type": "execute_result"
    }
   ],
   "source": [
    "energy_df.isnull().sum()"
   ]
  },
  {
   "cell_type": "markdown",
   "id": "f471e063-b4ea-45df-92a2-cf461aa18832",
   "metadata": {},
   "source": [
    "no missing values seen in the dataset"
   ]
  },
  {
   "cell_type": "markdown",
   "id": "98aabbe4-5a70-47c5-a85b-d650c79577fa",
   "metadata": {},
   "source": [
    "## Remove duplicates on the dataset"
   ]
  },
  {
   "cell_type": "code",
   "execution_count": 20,
   "id": "f9f1c99b-88fb-49ef-885d-d5fd9bd37a17",
   "metadata": {},
   "outputs": [
    {
     "data": {
      "text/plain": [
       "0"
      ]
     },
     "execution_count": 20,
     "metadata": {},
     "output_type": "execute_result"
    }
   ],
   "source": [
    "energy_df.duplicated().sum()"
   ]
  },
  {
   "cell_type": "markdown",
   "id": "e8c68dab-9116-4abd-8d07-2198fc2a57ea",
   "metadata": {},
   "source": [
    "no duplicates found in the dataset also"
   ]
  },
  {
   "cell_type": "markdown",
   "id": "029c2bd1-4f8d-4ec4-900e-8a9aa67eb28c",
   "metadata": {},
   "source": [
    "## Converting the Time Column to Datetime"
   ]
  },
  {
   "cell_type": "code",
   "execution_count": 25,
   "id": "0cb80850-234e-432f-a126-ff271f93a940",
   "metadata": {},
   "outputs": [],
   "source": [
    "energy_df['Time'] = pd.to_datetime(df['Time'], format= '%Y%m%d %H%M%S')"
   ]
  },
  {
   "cell_type": "code",
   "execution_count": 26,
   "id": "ed265487-3683-4b1b-a3ac-f6000b11664d",
   "metadata": {},
   "outputs": [
    {
     "data": {
      "text/html": [
       "<div>\n",
       "<style scoped>\n",
       "    .dataframe tbody tr th:only-of-type {\n",
       "        vertical-align: middle;\n",
       "    }\n",
       "\n",
       "    .dataframe tbody tr th {\n",
       "        vertical-align: top;\n",
       "    }\n",
       "\n",
       "    .dataframe thead th {\n",
       "        text-align: right;\n",
       "    }\n",
       "</style>\n",
       "<table border=\"1\" class=\"dataframe\">\n",
       "  <thead>\n",
       "    <tr style=\"text-align: right;\">\n",
       "      <th></th>\n",
       "      <th>Time</th>\n",
       "      <th>BS</th>\n",
       "      <th>Energy</th>\n",
       "      <th>load</th>\n",
       "      <th>ESMODE</th>\n",
       "      <th>TXpower</th>\n",
       "    </tr>\n",
       "  </thead>\n",
       "  <tbody>\n",
       "    <tr>\n",
       "      <th>0</th>\n",
       "      <td>2023-01-01 01:00:00</td>\n",
       "      <td>B_0</td>\n",
       "      <td>64.275037</td>\n",
       "      <td>0.487936</td>\n",
       "      <td>0.0</td>\n",
       "      <td>7.101719</td>\n",
       "    </tr>\n",
       "    <tr>\n",
       "      <th>1</th>\n",
       "      <td>2023-01-01 02:00:00</td>\n",
       "      <td>B_0</td>\n",
       "      <td>55.904335</td>\n",
       "      <td>0.344468</td>\n",
       "      <td>0.0</td>\n",
       "      <td>7.101719</td>\n",
       "    </tr>\n",
       "    <tr>\n",
       "      <th>2</th>\n",
       "      <td>2023-01-01 03:00:00</td>\n",
       "      <td>B_0</td>\n",
       "      <td>57.698057</td>\n",
       "      <td>0.193766</td>\n",
       "      <td>0.0</td>\n",
       "      <td>7.101719</td>\n",
       "    </tr>\n",
       "    <tr>\n",
       "      <th>3</th>\n",
       "      <td>2023-01-01 04:00:00</td>\n",
       "      <td>B_0</td>\n",
       "      <td>55.156951</td>\n",
       "      <td>0.222383</td>\n",
       "      <td>0.0</td>\n",
       "      <td>7.101719</td>\n",
       "    </tr>\n",
       "    <tr>\n",
       "      <th>4</th>\n",
       "      <td>2023-01-01 05:00:00</td>\n",
       "      <td>B_0</td>\n",
       "      <td>56.053812</td>\n",
       "      <td>0.175436</td>\n",
       "      <td>0.0</td>\n",
       "      <td>7.101719</td>\n",
       "    </tr>\n",
       "  </tbody>\n",
       "</table>\n",
       "</div>"
      ],
      "text/plain": [
       "                 Time   BS     Energy      load  ESMODE   TXpower\n",
       "0 2023-01-01 01:00:00  B_0  64.275037  0.487936     0.0  7.101719\n",
       "1 2023-01-01 02:00:00  B_0  55.904335  0.344468     0.0  7.101719\n",
       "2 2023-01-01 03:00:00  B_0  57.698057  0.193766     0.0  7.101719\n",
       "3 2023-01-01 04:00:00  B_0  55.156951  0.222383     0.0  7.101719\n",
       "4 2023-01-01 05:00:00  B_0  56.053812  0.175436     0.0  7.101719"
      ]
     },
     "execution_count": 26,
     "metadata": {},
     "output_type": "execute_result"
    }
   ],
   "source": [
    "energy_df.head()"
   ]
  },
  {
   "cell_type": "code",
   "execution_count": 31,
   "id": "eac4ece2-57bb-40b3-88d2-d55003dd8b0e",
   "metadata": {
    "scrolled": true
   },
   "outputs": [],
   "source": [
    "#Extracting the year, month, day, hour, minute and second \n",
    "energy_df['Year'] = energy_df['Time'].dt.year\n",
    "energy_df['Month'] = energy_df['Time'].dt.month\n",
    "energy_df['Day'] = energy_df['Time'].dt.day\n",
    "\n",
    "energy_df['Hour'] = energy_df['Time'].dt.hour\n",
    "energy_df['Minute'] = energy_df['Time'].dt.minute\n",
    "energy_df['Second'] = energy_df['Time'].dt.second"
   ]
  },
  {
   "cell_type": "code",
   "execution_count": 32,
   "id": "b8b61c12-a85d-4a07-baec-a969fc7d7967",
   "metadata": {},
   "outputs": [
    {
     "data": {
      "text/html": [
       "<div>\n",
       "<style scoped>\n",
       "    .dataframe tbody tr th:only-of-type {\n",
       "        vertical-align: middle;\n",
       "    }\n",
       "\n",
       "    .dataframe tbody tr th {\n",
       "        vertical-align: top;\n",
       "    }\n",
       "\n",
       "    .dataframe thead th {\n",
       "        text-align: right;\n",
       "    }\n",
       "</style>\n",
       "<table border=\"1\" class=\"dataframe\">\n",
       "  <thead>\n",
       "    <tr style=\"text-align: right;\">\n",
       "      <th></th>\n",
       "      <th>Time</th>\n",
       "      <th>BS</th>\n",
       "      <th>Energy</th>\n",
       "      <th>load</th>\n",
       "      <th>ESMODE</th>\n",
       "      <th>TXpower</th>\n",
       "      <th>Year</th>\n",
       "      <th>Month</th>\n",
       "      <th>Day</th>\n",
       "      <th>Hour</th>\n",
       "      <th>Minute</th>\n",
       "      <th>Second</th>\n",
       "    </tr>\n",
       "  </thead>\n",
       "  <tbody>\n",
       "    <tr>\n",
       "      <th>0</th>\n",
       "      <td>2023-01-01 01:00:00</td>\n",
       "      <td>B_0</td>\n",
       "      <td>64.275037</td>\n",
       "      <td>0.487936</td>\n",
       "      <td>0.0</td>\n",
       "      <td>7.101719</td>\n",
       "      <td>2023</td>\n",
       "      <td>1</td>\n",
       "      <td>1</td>\n",
       "      <td>1</td>\n",
       "      <td>0</td>\n",
       "      <td>0</td>\n",
       "    </tr>\n",
       "    <tr>\n",
       "      <th>1</th>\n",
       "      <td>2023-01-01 02:00:00</td>\n",
       "      <td>B_0</td>\n",
       "      <td>55.904335</td>\n",
       "      <td>0.344468</td>\n",
       "      <td>0.0</td>\n",
       "      <td>7.101719</td>\n",
       "      <td>2023</td>\n",
       "      <td>1</td>\n",
       "      <td>1</td>\n",
       "      <td>2</td>\n",
       "      <td>0</td>\n",
       "      <td>0</td>\n",
       "    </tr>\n",
       "    <tr>\n",
       "      <th>2</th>\n",
       "      <td>2023-01-01 03:00:00</td>\n",
       "      <td>B_0</td>\n",
       "      <td>57.698057</td>\n",
       "      <td>0.193766</td>\n",
       "      <td>0.0</td>\n",
       "      <td>7.101719</td>\n",
       "      <td>2023</td>\n",
       "      <td>1</td>\n",
       "      <td>1</td>\n",
       "      <td>3</td>\n",
       "      <td>0</td>\n",
       "      <td>0</td>\n",
       "    </tr>\n",
       "    <tr>\n",
       "      <th>3</th>\n",
       "      <td>2023-01-01 04:00:00</td>\n",
       "      <td>B_0</td>\n",
       "      <td>55.156951</td>\n",
       "      <td>0.222383</td>\n",
       "      <td>0.0</td>\n",
       "      <td>7.101719</td>\n",
       "      <td>2023</td>\n",
       "      <td>1</td>\n",
       "      <td>1</td>\n",
       "      <td>4</td>\n",
       "      <td>0</td>\n",
       "      <td>0</td>\n",
       "    </tr>\n",
       "    <tr>\n",
       "      <th>4</th>\n",
       "      <td>2023-01-01 05:00:00</td>\n",
       "      <td>B_0</td>\n",
       "      <td>56.053812</td>\n",
       "      <td>0.175436</td>\n",
       "      <td>0.0</td>\n",
       "      <td>7.101719</td>\n",
       "      <td>2023</td>\n",
       "      <td>1</td>\n",
       "      <td>1</td>\n",
       "      <td>5</td>\n",
       "      <td>0</td>\n",
       "      <td>0</td>\n",
       "    </tr>\n",
       "  </tbody>\n",
       "</table>\n",
       "</div>"
      ],
      "text/plain": [
       "                 Time   BS     Energy      load  ESMODE   TXpower  Year  \\\n",
       "0 2023-01-01 01:00:00  B_0  64.275037  0.487936     0.0  7.101719  2023   \n",
       "1 2023-01-01 02:00:00  B_0  55.904335  0.344468     0.0  7.101719  2023   \n",
       "2 2023-01-01 03:00:00  B_0  57.698057  0.193766     0.0  7.101719  2023   \n",
       "3 2023-01-01 04:00:00  B_0  55.156951  0.222383     0.0  7.101719  2023   \n",
       "4 2023-01-01 05:00:00  B_0  56.053812  0.175436     0.0  7.101719  2023   \n",
       "\n",
       "   Month  Day  Hour  Minute  Second  \n",
       "0      1    1     1       0       0  \n",
       "1      1    1     2       0       0  \n",
       "2      1    1     3       0       0  \n",
       "3      1    1     4       0       0  \n",
       "4      1    1     5       0       0  "
      ]
     },
     "execution_count": 32,
     "metadata": {},
     "output_type": "execute_result"
    }
   ],
   "source": [
    "#cross_checking\n",
    "energy_df.head()"
   ]
  },
  {
   "cell_type": "code",
   "execution_count": 35,
   "id": "06aaba38-386d-4d6a-a119-8261a6b4c459",
   "metadata": {},
   "outputs": [
    {
     "name": "stdout",
     "output_type": "stream",
     "text": [
      "Collecting category_encoders\n",
      "  Downloading category_encoders-2.6.4-py2.py3-none-any.whl.metadata (8.0 kB)\n",
      "Requirement already satisfied: numpy>=1.14.0 in c:\\users\\zione\\anaconda3\\lib\\site-packages (from category_encoders) (1.26.4)\n",
      "Requirement already satisfied: scikit-learn>=0.20.0 in c:\\users\\zione\\anaconda3\\lib\\site-packages (from category_encoders) (1.4.2)\n",
      "Requirement already satisfied: scipy>=1.0.0 in c:\\users\\zione\\anaconda3\\lib\\site-packages (from category_encoders) (1.13.1)\n",
      "Requirement already satisfied: statsmodels>=0.9.0 in c:\\users\\zione\\anaconda3\\lib\\site-packages (from category_encoders) (0.14.2)\n",
      "Requirement already satisfied: pandas>=1.0.5 in c:\\users\\zione\\anaconda3\\lib\\site-packages (from category_encoders) (2.2.2)\n",
      "Requirement already satisfied: patsy>=0.5.1 in c:\\users\\zione\\anaconda3\\lib\\site-packages (from category_encoders) (0.5.6)\n",
      "Requirement already satisfied: python-dateutil>=2.8.2 in c:\\users\\zione\\anaconda3\\lib\\site-packages (from pandas>=1.0.5->category_encoders) (2.9.0.post0)\n",
      "Requirement already satisfied: pytz>=2020.1 in c:\\users\\zione\\anaconda3\\lib\\site-packages (from pandas>=1.0.5->category_encoders) (2024.1)\n",
      "Requirement already satisfied: tzdata>=2022.7 in c:\\users\\zione\\anaconda3\\lib\\site-packages (from pandas>=1.0.5->category_encoders) (2023.3)\n",
      "Requirement already satisfied: six in c:\\users\\zione\\anaconda3\\lib\\site-packages (from patsy>=0.5.1->category_encoders) (1.16.0)\n",
      "Requirement already satisfied: joblib>=1.2.0 in c:\\users\\zione\\anaconda3\\lib\\site-packages (from scikit-learn>=0.20.0->category_encoders) (1.4.2)\n",
      "Requirement already satisfied: threadpoolctl>=2.0.0 in c:\\users\\zione\\anaconda3\\lib\\site-packages (from scikit-learn>=0.20.0->category_encoders) (2.2.0)\n",
      "Requirement already satisfied: packaging>=21.3 in c:\\users\\zione\\anaconda3\\lib\\site-packages (from statsmodels>=0.9.0->category_encoders) (23.2)\n",
      "Downloading category_encoders-2.6.4-py2.py3-none-any.whl (82 kB)\n",
      "   ---------------------------------------- 0.0/82.0 kB ? eta -:--:--\n",
      "   ---------------------------------------- 0.0/82.0 kB ? eta -:--:--\n",
      "   ---- ----------------------------------- 10.2/82.0 kB ? eta -:--:--\n",
      "   ---- ----------------------------------- 10.2/82.0 kB ? eta -:--:--\n",
      "   ---- ----------------------------------- 10.2/82.0 kB ? eta -:--:--\n",
      "   -------------- ------------------------- 30.7/82.0 kB 163.8 kB/s eta 0:00:01\n",
      "   ------------------- -------------------- 41.0/82.0 kB 196.9 kB/s eta 0:00:01\n",
      "   ----------------------------- ---------- 61.4/82.0 kB 252.2 kB/s eta 0:00:01\n",
      "   ---------------------------------------- 82.0/82.0 kB 287.1 kB/s eta 0:00:00\n",
      "Installing collected packages: category_encoders\n",
      "Successfully installed category_encoders-2.6.4\n"
     ]
    }
   ],
   "source": [
    "!pip install category_encoders\n",
    "\n",
    "import category_encoders as ce"
   ]
  },
  {
   "cell_type": "markdown",
   "id": "abca7857-3555-4a4b-8e86-3e184a048d21",
   "metadata": {},
   "source": [
    "## Encoding categorical features"
   ]
  },
  {
   "cell_type": "code",
   "execution_count": 38,
   "id": "1a2fec0f-2b2c-4cad-b800-6f3500023352",
   "metadata": {},
   "outputs": [
    {
     "data": {
      "text/plain": [
       "BS\n",
       "B_583     130\n",
       "B_261     128\n",
       "B_728     128\n",
       "B_669     128\n",
       "B_512     126\n",
       "         ... \n",
       "B_1018     16\n",
       "B_921      14\n",
       "B_905      13\n",
       "B_854       1\n",
       "B_835       1\n",
       "Name: count, Length: 923, dtype: int64"
      ]
     },
     "execution_count": 38,
     "metadata": {},
     "output_type": "execute_result"
    }
   ],
   "source": [
    "energy_df['BS'].value_counts()"
   ]
  },
  {
   "cell_type": "code",
   "execution_count": 40,
   "id": "1657545d-7e25-4bab-b832-71ca97b9d589",
   "metadata": {},
   "outputs": [
    {
     "data": {
      "text/plain": [
       "array(['B_0', 'B_1', 'B_2', 'B_3', 'B_4', 'B_5', 'B_6', 'B_7', 'B_8',\n",
       "       'B_9', 'B_10', 'B_11', 'B_12', 'B_14', 'B_15', 'B_16', 'B_17',\n",
       "       'B_18', 'B_19', 'B_20', 'B_21', 'B_22', 'B_23', 'B_24', 'B_25',\n",
       "       'B_26', 'B_27', 'B_28', 'B_29', 'B_30', 'B_31', 'B_32', 'B_33',\n",
       "       'B_34', 'B_35', 'B_36', 'B_37', 'B_38', 'B_39', 'B_40', 'B_41',\n",
       "       'B_42', 'B_43', 'B_44', 'B_45', 'B_46', 'B_47', 'B_48', 'B_49',\n",
       "       'B_50', 'B_51', 'B_52', 'B_53', 'B_54', 'B_55', 'B_56', 'B_57',\n",
       "       'B_58', 'B_59', 'B_60', 'B_61', 'B_62', 'B_63', 'B_64', 'B_65',\n",
       "       'B_66', 'B_67', 'B_68', 'B_69', 'B_70', 'B_71', 'B_72', 'B_73',\n",
       "       'B_74', 'B_75', 'B_76', 'B_77', 'B_78', 'B_79', 'B_80', 'B_81',\n",
       "       'B_82', 'B_83', 'B_84', 'B_85', 'B_86', 'B_87', 'B_88', 'B_89',\n",
       "       'B_90', 'B_91', 'B_92', 'B_93', 'B_94', 'B_95', 'B_96', 'B_97',\n",
       "       'B_98', 'B_99', 'B_100', 'B_101', 'B_102', 'B_103', 'B_104',\n",
       "       'B_105', 'B_106', 'B_107', 'B_108', 'B_109', 'B_110', 'B_111',\n",
       "       'B_112', 'B_113', 'B_114', 'B_115', 'B_116', 'B_117', 'B_118',\n",
       "       'B_119', 'B_120', 'B_121', 'B_122', 'B_123', 'B_124', 'B_125',\n",
       "       'B_126', 'B_127', 'B_128', 'B_129', 'B_130', 'B_131', 'B_132',\n",
       "       'B_133', 'B_134', 'B_135', 'B_136', 'B_137', 'B_138', 'B_139',\n",
       "       'B_140', 'B_141', 'B_142', 'B_143', 'B_144', 'B_145', 'B_146',\n",
       "       'B_147', 'B_148', 'B_149', 'B_150', 'B_151', 'B_152', 'B_153',\n",
       "       'B_154', 'B_155', 'B_156', 'B_157', 'B_158', 'B_159', 'B_160',\n",
       "       'B_161', 'B_162', 'B_163', 'B_164', 'B_165', 'B_166', 'B_167',\n",
       "       'B_168', 'B_169', 'B_170', 'B_171', 'B_172', 'B_173', 'B_174',\n",
       "       'B_175', 'B_176', 'B_177', 'B_178', 'B_179', 'B_180', 'B_181',\n",
       "       'B_182', 'B_183', 'B_184', 'B_185', 'B_186', 'B_187', 'B_188',\n",
       "       'B_189', 'B_190', 'B_191', 'B_192', 'B_193', 'B_194', 'B_195',\n",
       "       'B_196', 'B_197', 'B_198', 'B_199', 'B_200', 'B_201', 'B_202',\n",
       "       'B_203', 'B_204', 'B_205', 'B_206', 'B_207', 'B_208', 'B_209',\n",
       "       'B_210', 'B_211', 'B_212', 'B_213', 'B_214', 'B_215', 'B_216',\n",
       "       'B_217', 'B_218', 'B_219', 'B_220', 'B_221', 'B_222', 'B_223',\n",
       "       'B_224', 'B_225', 'B_226', 'B_227', 'B_228', 'B_229', 'B_230',\n",
       "       'B_231', 'B_232', 'B_233', 'B_234', 'B_235', 'B_236', 'B_237',\n",
       "       'B_238', 'B_239', 'B_240', 'B_241', 'B_242', 'B_243', 'B_244',\n",
       "       'B_245', 'B_246', 'B_247', 'B_248', 'B_249', 'B_250', 'B_251',\n",
       "       'B_252', 'B_253', 'B_254', 'B_255', 'B_256', 'B_257', 'B_258',\n",
       "       'B_259', 'B_260', 'B_261', 'B_262', 'B_263', 'B_264', 'B_265',\n",
       "       'B_266', 'B_267', 'B_268', 'B_269', 'B_270', 'B_271', 'B_272',\n",
       "       'B_273', 'B_275', 'B_276', 'B_277', 'B_278', 'B_279', 'B_280',\n",
       "       'B_281', 'B_282', 'B_283', 'B_284', 'B_285', 'B_286', 'B_287',\n",
       "       'B_288', 'B_289', 'B_290', 'B_291', 'B_292', 'B_293', 'B_294',\n",
       "       'B_295', 'B_296', 'B_297', 'B_298', 'B_299', 'B_300', 'B_301',\n",
       "       'B_302', 'B_303', 'B_304', 'B_305', 'B_306', 'B_307', 'B_308',\n",
       "       'B_309', 'B_310', 'B_311', 'B_312', 'B_313', 'B_314', 'B_316',\n",
       "       'B_317', 'B_318', 'B_319', 'B_320', 'B_321', 'B_322', 'B_323',\n",
       "       'B_324', 'B_325', 'B_326', 'B_327', 'B_328', 'B_329', 'B_330',\n",
       "       'B_331', 'B_332', 'B_333', 'B_334', 'B_335', 'B_336', 'B_337',\n",
       "       'B_338', 'B_339', 'B_340', 'B_341', 'B_342', 'B_343', 'B_344',\n",
       "       'B_345', 'B_346', 'B_347', 'B_348', 'B_349', 'B_350', 'B_351',\n",
       "       'B_352', 'B_353', 'B_354', 'B_355', 'B_356', 'B_357', 'B_358',\n",
       "       'B_359', 'B_360', 'B_361', 'B_362', 'B_364', 'B_365', 'B_366',\n",
       "       'B_367', 'B_368', 'B_369', 'B_370', 'B_371', 'B_372', 'B_373',\n",
       "       'B_374', 'B_375', 'B_376', 'B_377', 'B_378', 'B_379', 'B_380',\n",
       "       'B_381', 'B_382', 'B_383', 'B_384', 'B_385', 'B_386', 'B_387',\n",
       "       'B_388', 'B_389', 'B_390', 'B_391', 'B_392', 'B_393', 'B_394',\n",
       "       'B_395', 'B_396', 'B_397', 'B_398', 'B_399', 'B_400', 'B_401',\n",
       "       'B_402', 'B_403', 'B_404', 'B_405', 'B_406', 'B_407', 'B_408',\n",
       "       'B_409', 'B_410', 'B_411', 'B_412', 'B_413', 'B_414', 'B_415',\n",
       "       'B_416', 'B_417', 'B_418', 'B_419', 'B_420', 'B_421', 'B_422',\n",
       "       'B_423', 'B_424', 'B_425', 'B_426', 'B_427', 'B_428', 'B_429',\n",
       "       'B_430', 'B_431', 'B_432', 'B_433', 'B_434', 'B_435', 'B_436',\n",
       "       'B_437', 'B_438', 'B_439', 'B_440', 'B_441', 'B_442', 'B_443',\n",
       "       'B_444', 'B_445', 'B_446', 'B_447', 'B_448', 'B_449', 'B_450',\n",
       "       'B_451', 'B_452', 'B_453', 'B_454', 'B_455', 'B_456', 'B_457',\n",
       "       'B_458', 'B_459', 'B_460', 'B_461', 'B_462', 'B_463', 'B_464',\n",
       "       'B_465', 'B_466', 'B_467', 'B_468', 'B_469', 'B_470', 'B_471',\n",
       "       'B_472', 'B_473', 'B_474', 'B_475', 'B_476', 'B_477', 'B_478',\n",
       "       'B_479', 'B_480', 'B_481', 'B_482', 'B_483', 'B_484', 'B_485',\n",
       "       'B_486', 'B_487', 'B_488', 'B_489', 'B_490', 'B_491', 'B_492',\n",
       "       'B_493', 'B_494', 'B_495', 'B_496', 'B_497', 'B_498', 'B_499',\n",
       "       'B_500', 'B_501', 'B_502', 'B_503', 'B_504', 'B_505', 'B_506',\n",
       "       'B_507', 'B_508', 'B_509', 'B_510', 'B_511', 'B_512', 'B_513',\n",
       "       'B_514', 'B_515', 'B_516', 'B_517', 'B_518', 'B_519', 'B_520',\n",
       "       'B_521', 'B_522', 'B_523', 'B_524', 'B_525', 'B_526', 'B_527',\n",
       "       'B_528', 'B_529', 'B_530', 'B_531', 'B_532', 'B_533', 'B_534',\n",
       "       'B_535', 'B_536', 'B_537', 'B_538', 'B_539', 'B_540', 'B_541',\n",
       "       'B_542', 'B_543', 'B_544', 'B_545', 'B_546', 'B_547', 'B_548',\n",
       "       'B_549', 'B_550', 'B_551', 'B_552', 'B_553', 'B_554', 'B_555',\n",
       "       'B_556', 'B_557', 'B_558', 'B_559', 'B_560', 'B_561', 'B_562',\n",
       "       'B_563', 'B_564', 'B_565', 'B_566', 'B_567', 'B_568', 'B_569',\n",
       "       'B_570', 'B_571', 'B_572', 'B_573', 'B_574', 'B_575', 'B_576',\n",
       "       'B_577', 'B_578', 'B_579', 'B_580', 'B_581', 'B_582', 'B_583',\n",
       "       'B_584', 'B_585', 'B_586', 'B_587', 'B_588', 'B_589', 'B_590',\n",
       "       'B_591', 'B_592', 'B_593', 'B_594', 'B_595', 'B_596', 'B_597',\n",
       "       'B_598', 'B_599', 'B_600', 'B_601', 'B_602', 'B_603', 'B_604',\n",
       "       'B_605', 'B_606', 'B_607', 'B_608', 'B_609', 'B_610', 'B_611',\n",
       "       'B_612', 'B_613', 'B_614', 'B_615', 'B_616', 'B_617', 'B_618',\n",
       "       'B_619', 'B_620', 'B_621', 'B_622', 'B_623', 'B_624', 'B_625',\n",
       "       'B_626', 'B_627', 'B_628', 'B_629', 'B_630', 'B_631', 'B_632',\n",
       "       'B_633', 'B_634', 'B_635', 'B_636', 'B_637', 'B_638', 'B_639',\n",
       "       'B_640', 'B_641', 'B_642', 'B_643', 'B_644', 'B_645', 'B_646',\n",
       "       'B_647', 'B_648', 'B_649', 'B_650', 'B_652', 'B_653', 'B_654',\n",
       "       'B_655', 'B_656', 'B_657', 'B_658', 'B_659', 'B_660', 'B_661',\n",
       "       'B_662', 'B_663', 'B_664', 'B_665', 'B_666', 'B_667', 'B_668',\n",
       "       'B_669', 'B_670', 'B_671', 'B_672', 'B_673', 'B_674', 'B_675',\n",
       "       'B_676', 'B_677', 'B_678', 'B_679', 'B_680', 'B_681', 'B_682',\n",
       "       'B_683', 'B_684', 'B_685', 'B_686', 'B_687', 'B_688', 'B_689',\n",
       "       'B_690', 'B_691', 'B_692', 'B_693', 'B_694', 'B_695', 'B_696',\n",
       "       'B_697', 'B_698', 'B_699', 'B_700', 'B_701', 'B_702', 'B_703',\n",
       "       'B_704', 'B_705', 'B_706', 'B_707', 'B_708', 'B_709', 'B_710',\n",
       "       'B_711', 'B_712', 'B_713', 'B_714', 'B_715', 'B_716', 'B_717',\n",
       "       'B_718', 'B_719', 'B_720', 'B_721', 'B_722', 'B_723', 'B_724',\n",
       "       'B_725', 'B_726', 'B_727', 'B_728', 'B_729', 'B_730', 'B_731',\n",
       "       'B_732', 'B_733', 'B_734', 'B_735', 'B_736', 'B_737', 'B_738',\n",
       "       'B_739', 'B_740', 'B_741', 'B_742', 'B_743', 'B_744', 'B_745',\n",
       "       'B_746', 'B_747', 'B_748', 'B_749', 'B_750', 'B_751', 'B_752',\n",
       "       'B_753', 'B_754', 'B_755', 'B_756', 'B_757', 'B_758', 'B_759',\n",
       "       'B_760', 'B_761', 'B_762', 'B_763', 'B_764', 'B_765', 'B_766',\n",
       "       'B_767', 'B_768', 'B_769', 'B_770', 'B_771', 'B_772', 'B_773',\n",
       "       'B_774', 'B_775', 'B_776', 'B_777', 'B_778', 'B_779', 'B_780',\n",
       "       'B_781', 'B_782', 'B_783', 'B_784', 'B_785', 'B_786', 'B_787',\n",
       "       'B_788', 'B_789', 'B_790', 'B_791', 'B_792', 'B_793', 'B_794',\n",
       "       'B_795', 'B_796', 'B_797', 'B_798', 'B_799', 'B_800', 'B_801',\n",
       "       'B_802', 'B_803', 'B_804', 'B_805', 'B_806', 'B_807', 'B_808',\n",
       "       'B_809', 'B_810', 'B_811', 'B_812', 'B_813', 'B_814', 'B_815',\n",
       "       'B_816', 'B_817', 'B_818', 'B_819', 'B_820', 'B_821', 'B_822',\n",
       "       'B_823', 'B_824', 'B_825', 'B_826', 'B_829', 'B_830', 'B_831',\n",
       "       'B_832', 'B_833', 'B_834', 'B_835', 'B_836', 'B_839', 'B_844',\n",
       "       'B_845', 'B_846', 'B_847', 'B_851', 'B_852', 'B_853', 'B_854',\n",
       "       'B_856', 'B_857', 'B_858', 'B_859', 'B_860', 'B_863', 'B_865',\n",
       "       'B_866', 'B_868', 'B_870', 'B_871', 'B_872', 'B_873', 'B_874',\n",
       "       'B_883', 'B_884', 'B_885', 'B_886', 'B_887', 'B_888', 'B_889',\n",
       "       'B_890', 'B_891', 'B_892', 'B_896', 'B_900', 'B_901', 'B_905',\n",
       "       'B_906', 'B_907', 'B_918', 'B_921', 'B_922', 'B_923', 'B_924',\n",
       "       'B_925', 'B_926', 'B_928', 'B_930', 'B_933', 'B_934', 'B_938',\n",
       "       'B_939', 'B_940', 'B_945', 'B_946', 'B_947', 'B_951', 'B_952',\n",
       "       'B_953', 'B_954', 'B_963', 'B_966', 'B_967', 'B_968', 'B_969',\n",
       "       'B_970', 'B_971', 'B_972', 'B_973', 'B_974', 'B_977', 'B_983',\n",
       "       'B_985', 'B_986', 'B_987', 'B_988', 'B_989', 'B_990', 'B_991',\n",
       "       'B_992', 'B_993', 'B_994', 'B_995', 'B_996', 'B_997', 'B_998',\n",
       "       'B_999', 'B_1003', 'B_1004', 'B_1005', 'B_1006', 'B_1007',\n",
       "       'B_1018'], dtype=object)"
      ]
     },
     "execution_count": 40,
     "metadata": {},
     "output_type": "execute_result"
    }
   ],
   "source": [
    "energy_df['BS'].unique()"
   ]
  },
  {
   "cell_type": "markdown",
   "id": "a04eea2e-f645-4e9b-a21b-895d4bb920dc",
   "metadata": {},
   "source": [
    "The BS has too many unique values. Target Encoding allows the model to understand patterns, assigning a value from the target variable."
   ]
  },
  {
   "cell_type": "code",
   "execution_count": 41,
   "id": "8ddedce8-b781-4e6e-b161-beed429c37e9",
   "metadata": {},
   "outputs": [],
   "source": [
    "#Target Encoding\n",
    "encoder = ce.TargetEncoder(cols=['BS'])\n",
    "energy_df['BS_encoded'] = encoder.fit_transform(energy_df['BS'], energy_df['Energy'])\n",
    "                                                \n",
    "                                                "
   ]
  },
  {
   "cell_type": "code",
   "execution_count": 42,
   "id": "dde21f74-93b0-4122-9992-9fddd95fa050",
   "metadata": {},
   "outputs": [
    {
     "data": {
      "text/html": [
       "<div>\n",
       "<style scoped>\n",
       "    .dataframe tbody tr th:only-of-type {\n",
       "        vertical-align: middle;\n",
       "    }\n",
       "\n",
       "    .dataframe tbody tr th {\n",
       "        vertical-align: top;\n",
       "    }\n",
       "\n",
       "    .dataframe thead th {\n",
       "        text-align: right;\n",
       "    }\n",
       "</style>\n",
       "<table border=\"1\" class=\"dataframe\">\n",
       "  <thead>\n",
       "    <tr style=\"text-align: right;\">\n",
       "      <th></th>\n",
       "      <th>Time</th>\n",
       "      <th>BS</th>\n",
       "      <th>Energy</th>\n",
       "      <th>load</th>\n",
       "      <th>ESMODE</th>\n",
       "      <th>TXpower</th>\n",
       "      <th>Year</th>\n",
       "      <th>Month</th>\n",
       "      <th>Day</th>\n",
       "      <th>Hour</th>\n",
       "      <th>Minute</th>\n",
       "      <th>Second</th>\n",
       "      <th>BS_encoded</th>\n",
       "    </tr>\n",
       "  </thead>\n",
       "  <tbody>\n",
       "    <tr>\n",
       "      <th>0</th>\n",
       "      <td>2023-01-01 01:00:00</td>\n",
       "      <td>B_0</td>\n",
       "      <td>64.275037</td>\n",
       "      <td>0.487936</td>\n",
       "      <td>0.0</td>\n",
       "      <td>7.101719</td>\n",
       "      <td>2023</td>\n",
       "      <td>1</td>\n",
       "      <td>1</td>\n",
       "      <td>1</td>\n",
       "      <td>0</td>\n",
       "      <td>0</td>\n",
       "      <td>73.087415</td>\n",
       "    </tr>\n",
       "    <tr>\n",
       "      <th>1</th>\n",
       "      <td>2023-01-01 02:00:00</td>\n",
       "      <td>B_0</td>\n",
       "      <td>55.904335</td>\n",
       "      <td>0.344468</td>\n",
       "      <td>0.0</td>\n",
       "      <td>7.101719</td>\n",
       "      <td>2023</td>\n",
       "      <td>1</td>\n",
       "      <td>1</td>\n",
       "      <td>2</td>\n",
       "      <td>0</td>\n",
       "      <td>0</td>\n",
       "      <td>73.087415</td>\n",
       "    </tr>\n",
       "    <tr>\n",
       "      <th>2</th>\n",
       "      <td>2023-01-01 03:00:00</td>\n",
       "      <td>B_0</td>\n",
       "      <td>57.698057</td>\n",
       "      <td>0.193766</td>\n",
       "      <td>0.0</td>\n",
       "      <td>7.101719</td>\n",
       "      <td>2023</td>\n",
       "      <td>1</td>\n",
       "      <td>1</td>\n",
       "      <td>3</td>\n",
       "      <td>0</td>\n",
       "      <td>0</td>\n",
       "      <td>73.087415</td>\n",
       "    </tr>\n",
       "    <tr>\n",
       "      <th>3</th>\n",
       "      <td>2023-01-01 04:00:00</td>\n",
       "      <td>B_0</td>\n",
       "      <td>55.156951</td>\n",
       "      <td>0.222383</td>\n",
       "      <td>0.0</td>\n",
       "      <td>7.101719</td>\n",
       "      <td>2023</td>\n",
       "      <td>1</td>\n",
       "      <td>1</td>\n",
       "      <td>4</td>\n",
       "      <td>0</td>\n",
       "      <td>0</td>\n",
       "      <td>73.087415</td>\n",
       "    </tr>\n",
       "    <tr>\n",
       "      <th>4</th>\n",
       "      <td>2023-01-01 05:00:00</td>\n",
       "      <td>B_0</td>\n",
       "      <td>56.053812</td>\n",
       "      <td>0.175436</td>\n",
       "      <td>0.0</td>\n",
       "      <td>7.101719</td>\n",
       "      <td>2023</td>\n",
       "      <td>1</td>\n",
       "      <td>1</td>\n",
       "      <td>5</td>\n",
       "      <td>0</td>\n",
       "      <td>0</td>\n",
       "      <td>73.087415</td>\n",
       "    </tr>\n",
       "  </tbody>\n",
       "</table>\n",
       "</div>"
      ],
      "text/plain": [
       "                 Time   BS     Energy      load  ESMODE   TXpower  Year  \\\n",
       "0 2023-01-01 01:00:00  B_0  64.275037  0.487936     0.0  7.101719  2023   \n",
       "1 2023-01-01 02:00:00  B_0  55.904335  0.344468     0.0  7.101719  2023   \n",
       "2 2023-01-01 03:00:00  B_0  57.698057  0.193766     0.0  7.101719  2023   \n",
       "3 2023-01-01 04:00:00  B_0  55.156951  0.222383     0.0  7.101719  2023   \n",
       "4 2023-01-01 05:00:00  B_0  56.053812  0.175436     0.0  7.101719  2023   \n",
       "\n",
       "   Month  Day  Hour  Minute  Second  BS_encoded  \n",
       "0      1    1     1       0       0   73.087415  \n",
       "1      1    1     2       0       0   73.087415  \n",
       "2      1    1     3       0       0   73.087415  \n",
       "3      1    1     4       0       0   73.087415  \n",
       "4      1    1     5       0       0   73.087415  "
      ]
     },
     "execution_count": 42,
     "metadata": {},
     "output_type": "execute_result"
    }
   ],
   "source": [
    "energy_df.head()"
   ]
  },
  {
   "cell_type": "markdown",
   "id": "ac01fe47-16a3-4bce-9a0c-aaccb113c854",
   "metadata": {},
   "source": [
    "## Correlation matrix to show the strength and the direction of linear relationships between pairs of variables in the dataset. "
   ]
  },
  {
   "cell_type": "code",
   "execution_count": 54,
   "id": "5ea0c76f-d662-4b07-af11-9d8ecb14f5a6",
   "metadata": {},
   "outputs": [],
   "source": [
    "selected_columns = ['Energy','load', 'ESMODE', 'TXpower', 'BS_encoded', 'Time', 'Day', 'Hour']\n",
    "correlation_matrix = energy_df[columns].corr()"
   ]
  },
  {
   "cell_type": "code",
   "execution_count": null,
   "id": "361a3c22-710a-4578-9c65-43ea32e5c6ed",
   "metadata": {
    "scrolled": true
   },
   "outputs": [],
   "source": [
    "correlation_matrix()"
   ]
  },
  {
   "cell_type": "code",
   "execution_count": null,
   "id": "102a4f2b-3163-4c90-87d1-4fe034d0c702",
   "metadata": {},
   "outputs": [],
   "source": [
    "print(energy_df.selected_columns)\n"
   ]
  },
  {
   "cell_type": "code",
   "execution_count": 58,
   "id": "bf499917-f731-44a0-b821-b2a85faefc8d",
   "metadata": {},
   "outputs": [
    {
     "data": {
      "image/png": "[encoded data removed]",
      "text/plain": [
       "<Figure size 640x480 with 2 Axes>"
      ]
     },
     "metadata": {},
     "output_type": "display_data"
    }
   ],
   "source": [
    "sns.heatmap(correlation_matrix,\n",
    "            annot=True,\n",
    "            linewidth=0.5,\n",
    "            linecolor='red',\n",
    "            cbar_kws={'label': 'Correlation Coefficient'})\n",
    "plt.title('Correlation Matrix of Features', fontsize=15)\n",
    "plt.xlabel('Features', fontsize=14)\n",
    "plt.ylabel('Features', fontsize=14)\n",
    "\n",
    "plt.show()         "
   ]
  },
  {
   "cell_type": "markdown",
   "id": "e8c85449-81f1-4b68-ae88-4c5bea95307a",
   "metadata": {},
   "source": [
    "### Showing the relationship between the two features..Energy and the various features"
   ]
  },
  {
   "cell_type": "markdown",
   "id": "35ca0a8e-e07a-414e-a7ec-a248218e53b0",
   "metadata": {},
   "source": [
    "\n",
    "Energy and Hour: The correlation is 0.204, indicating a weak positive correlation.\n",
    "\n",
    "Energy and Day: The correlation is 0.0013, indicating that there is no relationship between the Energy Consumption and the Day.\n",
    "\n",
    "Energy and Time: The correlation is 0.03, indicating that linear relationship between the Energy and Time does not align.\n",
    "\n",
    "Energy and BS_encoded: The correlation is 0.92: This indicates a strong positive correlation, it also regard BD_encoded as a strong feature in Energy Consumption.\n",
    "\n",
    "Energy and TX power: The correlation found in both intersection is 0.45. This indicates a moderate positive correlation.\n",
    "\n",
    "Energy and ESMODE: The correlation is 0.27, this indicates that another weak positive correlation.\n",
    "\n",
    "Energy and load: The correlation is 0.64, indicating that a moderate positive correlation. The Traffic Load is another predictor of Energy Consumption."
   ]
  },
  {
   "cell_type": "markdown",
   "id": "d383082d-cf8b-4b3c-b517-5a0a76354dcd",
   "metadata": {},
   "source": [
    "## Splitting the dataset into Training and Test Sets"
   ]
  },
  {
   "cell_type": "code",
   "execution_count": 71,
   "id": "cbf709ba-3517-4427-8459-b8b12455149c",
   "metadata": {},
   "outputs": [
    {
     "name": "stdout",
     "output_type": "stream",
     "text": [
      "Index(['load', 'ESMODE', 'TXpower', 'Hour', 'BS_encoded'], dtype='object')\n"
     ]
    }
   ],
   "source": [
    "#Dropping unnecessary columns\n",
    "X = energy_df.drop(columns=['Energy', 'BS', 'Year', 'Month','Day', 'Time','Minute','Second'])\n",
    "#Target variable remains the same\n",
    "y = df['Energy']\n",
    "# Splitting the data into training and test sets\n",
    "X_train, X_test, y_train, y_test =train_test_split(X, y, test_size=0.2,random_state=42)\n",
    "#Verifying the features\n",
    "print(X_train.columns)"
   ]
  },
  {
   "cell_type": "markdown",
   "id": "4c9e801d-bd3d-4f69-b759-91d90aa9c712",
   "metadata": {},
   "source": [
    "## Selecting a ML regression algorithm and train it on the training set"
   ]
  },
  {
   "cell_type": "code",
   "execution_count": 73,
   "id": "81b4d72a-dc3c-4966-a9f2-cf2bc8853d25",
   "metadata": {},
   "outputs": [
    {
     "name": "stdout",
     "output_type": "stream",
     "text": [
      "Linear Regression\n",
      "MAE: 2.7504842567919368\n",
      "MSE: 14.976882793435548\n",
      "R² Score: 0.9210938363967964\n"
     ]
    }
   ],
   "source": [
    "#Imitializing and train the model\n",
    "linear_model = LinearRegression()\n",
    "linear_model.fit(X_train, y_train)\n",
    "#making predictions\n",
    "y_pred_linear = linear_model.predict(X_test)\n",
    "\n",
    "#Evaluate the model\n",
    "print(\"Linear Regression\")\n",
    "print(\"MAE:\", mean_absolute_error(y_test,y_pred_linear))\n",
    "print(\"MSE:\", mean_squared_error(y_test, y_pred_linear))\n",
    "print(\"R² Score:\", r2_score(y_test, y_pred_linear))"
   ]
  },
  {
   "cell_type": "code",
   "execution_count": null,
   "id": "497a7c70-9a8e-468d-93d8-76923e1bef66",
   "metadata": {},
   "outputs": [],
   "source": []
  },
  {
   "cell_type": "code",
   "execution_count": 74,
   "id": "74bafbc8-cb5d-45b7-9daa-4e32d111b096",
   "metadata": {},
   "outputs": [
    {
     "name": "stdout",
     "output_type": "stream",
     "text": [
      "XGBoost Regression\n",
      "MAE: 1.5511971272413154\n",
      "MSE: 5.544545697940161\n",
      "R² Score: 0.9707883919517042\n"
     ]
    }
   ],
   "source": [
    "#XGBOOST\n",
    "## Initialize and train the model\n",
    "xgb_model = XGBRegressor(random_state=42)\n",
    "xgb_model.fit(X_train, y_train)\n",
    "\n",
    "#Make predictions\n",
    "y_pred_xgb = xgb_model.predict(X_test)\n",
    "\n",
    "#Evaluating the model\n",
    "print(\"XGBoost Regression\")\n",
    "print(\"MAE:\", mean_absolute_error(y_test,y_pred_xgb))\n",
    "print(\"MSE:\", mean_squared_error(y_test, y_pred_xgb))\n",
    "print(\"R² Score:\", r2_score(y_test, y_pred_xgb))"
   ]
  },
  {
   "cell_type": "code",
   "execution_count": 75,
   "id": "b59d41db-2761-4b46-a4f4-976ac97bd0cb",
   "metadata": {},
   "outputs": [
    {
     "name": "stdout",
     "output_type": "stream",
     "text": [
      "Decision Tree Regression\n",
      "MAE: 1.7447697766014387\n",
      "MSE: 8.197822268440413\n",
      "R² Score: 0.9568095234485599\n"
     ]
    }
   ],
   "source": [
    "from sklearn.tree import DecisionTreeRegressor\n",
    "#Initializing and training the model\n",
    "Decisiontree_model = DecisionTreeRegressor(random_state = 42)\n",
    "Decisiontree_model.fit(X_train, y_train)\n",
    "\n",
    "#Making predictions\n",
    "y_pred_tree = Decisiontree_model.predict(X_test)\n",
    "\n",
    "#Evaluating the model\n",
    "print(\"Decision Tree Regression\")\n",
    "print(\"MAE:\", mean_absolute_error(y_test,y_pred_tree))\n",
    "print(\"MSE:\", mean_squared_error(y_test, y_pred_tree))\n",
    "print(\"R² Score:\", r2_score(y_test, y_pred_tree))\n"
   ]
  },
  {
   "cell_type": "code",
   "execution_count": 76,
   "id": "e061bff2-fa7a-41de-874e-38c5e55fbd3a",
   "metadata": {},
   "outputs": [
    {
     "name": "stdout",
     "output_type": "stream",
     "text": [
      "Gradient Boosting Regression:\n",
      "MAE: 1.970588763756416\n",
      "MSE: 8.224305651841785\n",
      "R² Score: 0.9566699949357007\n"
     ]
    }
   ],
   "source": [
    "from sklearn.ensemble import GradientBoostingRegressor\n",
    "#Initialize,and train the model\n",
    "gb_model = GradientBoostingRegressor(random_state=42)\n",
    "gb_model.fit(X_train, y_train)\n",
    "\n",
    "#Making predictions\n",
    "y_pred_gb = gb_model.predict(X_test)\n",
    "\n",
    "#Evaluating the model\n",
    "print(\"Gradient Boosting Regression:\")\n",
    "print(\"MAE:\", mean_absolute_error(y_test,y_pred_gb))\n",
    "print(\"MSE:\", mean_squared_error(y_test, y_pred_gb))\n",
    "print(\"R² Score:\", r2_score(y_test, y_pred_gb))"
   ]
  },
  {
   "cell_type": "markdown",
   "id": "ef4c5da3-8cee-42f2-bd13-c6fa7d3acd67",
   "metadata": {},
   "source": [
    "### XgBoost Regression has the best performance, its speed and accuracy to handle complex tasks."
   ]
  },
  {
   "cell_type": "code",
   "execution_count": null,
   "id": "6c35081e-d6fd-4cfc-90fc-b0b05267b865",
   "metadata": {},
   "outputs": [],
   "source": []
  }
 ],
 "metadata": {
  "kernelspec": {
   "display_name": "Python 3 (ipykernel)",
   "language": "python",
   "name": "python3"
  },
  "language_info": {
   "codemirror_mode": {
    "name": "ipython",
    "version": 3
   },
   "file_extension": ".py",
   "mimetype": "text/x-python",
   "name": "python",
   "nbconvert_exporter": "python",
   "pygments_lexer": "ipython3",
   "version": "3.12.4"
  }
 },
 "nbformat": 4,
 "nbformat_minor": 5
}
